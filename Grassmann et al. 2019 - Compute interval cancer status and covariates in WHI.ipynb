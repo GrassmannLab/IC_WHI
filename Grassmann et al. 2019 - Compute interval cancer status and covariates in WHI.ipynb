{
 "cells": [
  {
   "cell_type": "markdown",
   "metadata": {},
   "source": [
    "-------------------\n",
    "# Compute phenotypes for interval cancer in Women's Health Initiative \n",
    "# Author: Dr. Felix Grassmann\n",
    "# Date: 2018-05-16\n",
    "# Version: 1.0\n",
    "-------------------"
   ]
  },
  {
   "cell_type": "code",
   "execution_count": 33,
   "metadata": {},
   "outputs": [],
   "source": [
    "library(data.table)\n",
    "library(survival)\n",
    "library(broom)\n",
    "library(doParallel)\n",
    "registerDoParallel(cores=4)"
   ]
  },
  {
   "cell_type": "markdown",
   "metadata": {},
   "source": [
    "## ---------------  Data sources --------------------##"
   ]
  },
  {
   "cell_type": "code",
   "execution_count": 34,
   "metadata": {},
   "outputs": [],
   "source": [
    "setwd(\"/Volumes/Work/Work/Projects/PheWAS_BC_Prognosis/data/phenotypes/WHI/raw_register_data/\")"
   ]
  },
  {
   "cell_type": "code",
   "execution_count": 35,
   "metadata": {},
   "outputs": [],
   "source": [
    "# load data into R\n",
    "\n",
    "### f33_rel4\n",
    "# questionair: mammogram status for all women, yearly questionair\n",
    "qmammo=rbind(fread(\"mammogram_quest_phs000200.v11.pht003397.v3.p3.c1.f33_rel4.HMB-IRB.txt\", data.table=FALSE, skip=10), \n",
    "fread(\"mammogram_quest_phs000200.v11.pht003397.v3.p3.c2.f33_rel4.HMB-IRB-NPU.txt\", data.table=FALSE, skip=10))\n",
    "\n",
    "\n",
    "### f2_rel1 (Form2)\n",
    "# contains baseline questionair data - contains the age at recruitment\n",
    "f2_rel1_baseline=rbind(fread(\"baseline_exam_phs000200.v11.pht000998.v6.p3.c1.f2_rel1.HMB-IRB.txt\", data.table=FALSE, skip=10), \n",
    "fread(\"baseline_exam_phs000200.v11.pht000998.v6.p3.c2.f2_rel1.HMB-IRB-NPU.txt\", data.table=FALSE, skip=10))\n",
    "\n",
    "\n",
    "### outc_bc_rel4\n",
    "# contains information about the breast cancer, mainly grading, histology etc. in the extension study\n",
    "# DOES NOT CONTAIN DATE OF DIAGNOSIS\n",
    "bc_all=rbind(fread(\"breast_cancer_phs000200.v11.pht003401.v3.p3.c1.outc_bc_rel4.HMB-IRB.txt\", data.table=FALSE, skip=10), \n",
    "fread(\"breast_cancer_phs000200.v11.pht003401.v3.p3.c2.outc_bc_rel4.HMB-IRB-NPU.txt\", data.table=FALSE, skip=10))\n",
    "bc_all=bc_all[order(is.na(bc_all$BREASTINV)),]\n",
    "\n",
    "\n",
    "\n",
    "### outc_ct_os_rel4\n",
    "# contains outcome for CT and OS participants\n",
    "# contains the date of BC diagnosis\n",
    "outc_ct_os=rbind(fread(\"breast_cancer_phs000200.v11.pht003407.v3.p3.c1.outc_ct_os_rel4.HMB-IRB.txt\", data.table=FALSE, skip=10), \n",
    "fread(\"breast_cancer_phs000200.v11.pht003407.v3.p3.c2.outc_ct_os_rel4.HMB-IRB-NPU.txt\", data.table=FALSE, skip=10))\n",
    "# the date of BC diagnosis is sometimes determined from the death certificate (BREASTSRC = 9 or 10). This is of course not correct to use here, so exclude those samples\n",
    "outc_ct_os=outc_ct_os[which((outc_ct_os$BREASTSRC<2)|is.na(outc_ct_os$BREASTSRC)),]\n",
    "\n",
    "### outc_death_all_discovered_rel1 (Form 124/120) (Main, Ext1, Ext2) \n",
    "# contains date of death and cause of death\n",
    "outc_death=rbind(fread(\"death_phs000200.v11.pht006220.v1.p3.c1.outc_death_all_discovered_rel1.HMB-IRB.txt\", data.table=FALSE, skip=10), \n",
    "fread(\"death_phs000200.v11.pht006220.v1.p3.c2.outc_death_all_discovered_rel1.HMB-IRB-NPU.txt\", data.table=FALSE, skip=10))\n",
    "\n",
    "\n",
    "### f154_rel1 (Form 154)\n",
    "# contains treatment data for breast cancer\n",
    "f154_treatment=rbind(fread(\"breast_cancer_treatment_phs000200.v11.pht002752.v4.p3.c1.f154_rel1.HMB-IRB.txt\", data.table=FALSE, skip=10), \n",
    "fread(\"breast_cancer_treatment_phs000200.v11.pht002752.v4.p3.c2.f154_rel1.HMB-IRB-NPU.txt\", data.table=FALSE, skip=10))\n",
    "\n",
    "\n",
    "### f30_rel1\n",
    "# contains  medical history at baseline\n",
    "f30_rel1=rbind(fread(\"medical_history_baseline_phs000200.v11.pht000999.v6.p3.c1.f30_rel2.HMB-IRB.txt\", data.table=FALSE, skip=10), \n",
    "fread(\"medical_history_baseline_phs000200.v11.pht000999.v6.p3.c2.f30_rel2.HMB-IRB-NPU.txt\", data.table=FALSE, skip=10))\n",
    "\n",
    "### f31_rel1\n",
    "# contains reproductive health questionair at baseline\n",
    "f31_rel1=rbind(fread(\"reproductive_health_phs000200.v11.pht001000.v7.p3.c2.f31_rel1.HMB-IRB-NPU.txt\", data.table=FALSE, skip=10), \n",
    "fread(\"reproductive_health_phs000200.v11.pht001000.v7.p3.c1.f31_rel1.HMB-IRB.txt\", data.table=FALSE, skip=10))\n",
    "\n",
    "### f42_rel1\n",
    "# contains OS questionair data\n",
    "f42_rel1=rbind(fread(\"medical_history_phs000200.v11.pht001010.v6.p3.c2.f42_rel1.HMB-IRB-NPU.txt\", data.table=FALSE, skip=10), \n",
    "fread(\"medical_history_phs000200.v11.pht001010.v6.p3.c1.f42_rel1.HMB-IRB.txt\", data.table=FALSE, skip=10))\n",
    "\n",
    "\n",
    "### f20_rel1\n",
    "# contains personal information such as education etc.\n",
    "f20_rel1=rbind(fread(\"Personal_Information_phs000200.v11.pht000997.v6.p3.c1.f20_rel1.HMB-IRB.txt\", data.table=FALSE, skip=10), \n",
    "fread(\"Personal_Information_phs000200.v11.pht000997.v6.p3.c2.f20_rel1.HMB-IRB-NPU.txt\", data.table=FALSE, skip=10))\n",
    "\n",
    "\n",
    "### f34_rel2\n",
    "# contains habits such as smoking, coffee, alcohol\n",
    "f34_rel2=rbind(fread(\"habits_phs000200.v11.pht001003.v6.p3.c1.f34_rel2.HMB-IRB.txt\", data.table=FALSE, skip=10), \n",
    "fread(\"habits_phs000200.v11.pht001003.v6.p3.c2.f34_rel2.HMB-IRB-NPU.txt\", data.table=FALSE, skip=10))\n",
    "\n",
    "\n",
    "### f32_rel1\n",
    "# contains family history of participants\n",
    "f32_rel1=rbind(fread(\"family_history_phs000200.v11.pht001001.v6.p3.c1.f32_rel1.HMB-IRB.txt\", data.table=FALSE, skip=10), \n",
    "fread(\"family_history_phs000200.v11.pht001001.v6.p3.c2.f32_rel1.HMB-IRB-NPU.txt\", data.table=FALSE, skip=10))\n",
    "\n",
    "\n",
    "### f80_rel1\n",
    "# contains physical activity measures as well as BMI\n",
    "f80_rel1=rbind(fread(\"physical_activity_phs000200.v11.pht001019.v6.p3.c2.f80_rel1.HMB-IRB-NPU.txt\", data.table=FALSE, skip=10), \n",
    "fread(\"physical_activityphs000200.v11.pht001019.v6.p3.c1.f80_rel1.HMB-IRB.txt\", data.table=FALSE, skip=10))\n",
    "\n",
    "\n",
    "# load HRT treatment assignment within the HRT clinical trial\n",
    "randomization=rbind(fread(\"HRT_Randomization_phs000200.v11.pht001031.v6.p3.c1.rand_rel2.HMB-IRB.txt\", data.table=FALSE, skip=10), \n",
    "fread(\"HRT_Randomization_phs000200.v11.pht001031.v6.p3.c2.rand_rel2.HMB-IRB-NPU.txt\", data.table=FALSE, skip=10))\n",
    "\n",
    "# load HRT treatment adherence\n",
    "adherence=rbind(fread(\"HRT_adherence_phs000200.v11.pht006213.v1.p3.c1.adh_ht_rel1.HMB-IRB.txt\", data.table=FALSE, skip=10), \n",
    "fread(\"HRT_adherence_phs000200.v11.pht006213.v1.p3.c2.adh_ht_rel1.HMB-IRB-NPU.txt\", data.table=FALSE, skip=10))\n",
    "\n",
    "# exclude those cases that switched treatment arms\n",
    "adherence=adherence[adherence$ERT2PERT!=1,]\n",
    "\n"
   ]
  },
  {
   "cell_type": "markdown",
   "metadata": {},
   "source": [
    "## ------------ Interval Cancer ------------- ##"
   ]
  },
  {
   "cell_type": "code",
   "execution_count": 36,
   "metadata": {},
   "outputs": [],
   "source": [
    "# Compute Interval Breast Cancer from scratch\n",
    "\n",
    "# setup empty data frame\n",
    "phenotypes=data.frame(matrix(nr=nrow(outc_ct_os), nc=1))\n",
    "\n",
    "#### add ID\n",
    "# studiepersonid\t-\tID of the individual\n",
    "phenotypes$studiepersonid=as.character(outc_ct_os$SUBJID)\n",
    "rownames(phenotypes)=phenotypes$studiepersonid\n",
    "\n",
    "\n",
    "#### dbGaP ID\n",
    "# dbGaP_Subject_ID\t-\tunique identifier for all samples in dbGAP\n",
    "phenotypes$dbGaP_Subject_ID=as.character(outc_ct_os$dbGaP_Subject_ID)\n",
    "\n",
    "\n",
    "#### add date of diagnosis\n",
    "# x_diagdate\t-\tBREASTDY from outc_ct_os (days from randomization/recruitemtn to Breast Cancer)\n",
    "phenotypes$x_diagdate=outc_ct_os$BREASTDY\n",
    "\n",
    "#### add cancer source used\n",
    "# x_source\t-\twhich source was used to acertain breast cancer diagnosis BREASTSRC\n",
    "phenotypes$x_source=outc_ct_os$BREASTSRC\n",
    "\n",
    "# remove the first column since it is empty\n",
    "phenotypes=phenotypes[,-1]\n",
    "\n",
    "\n",
    "#### Breast cancer case (yes/no)\n",
    "# x_BC   -   Breast cancer case (1= yes, 0=no)\n",
    "phenotypes$x_BC=as.numeric(!is.na(outc_ct_os$BREASTSRC))\n",
    "\n"
   ]
  },
  {
   "cell_type": "code",
   "execution_count": 37,
   "metadata": {},
   "outputs": [],
   "source": [
    "##################################\n",
    "# x_PRESCREEN from questionair\n",
    "\n",
    "# add last screening and second to last screening and compute interval\n",
    "# only do this for women with breast cancer x_diagdate\n",
    "#### x_PRESCREEN\n",
    "# x_PRESCREEN: time in days from baseline to the last screening before diagnosis, use data from f33_rel4\n",
    "phenotypes$x_PRESCREEN=NA\n",
    "\n",
    "# restrict to BC cases to speed-up the calculation\n",
    "bc_cases=phenotypes[!is.na(phenotypes$x_diagdate), \"studiepersonid\"]\n",
    "\n",
    "#reduce the mammo dataframe to only contain entries for samples with breast cancer. This should reduce computing time 10 fold\n",
    "qmammo=qmammo[!is.na(match(qmammo$SUBJID, bc_cases)),]\n",
    "\n",
    "# only use yearly followup\n",
    "qmammo=qmammo[qmammo$F33VTYP==3,]\n",
    "\n",
    "\n",
    "tmp.phenotypes=foreach(case=bc_cases,.combine=rbind) %dopar% \n",
    "{\n",
    "\tcat(date(), \"--- currently analysing case \", which(bc_cases==case), \"out of\", length(bc_cases), \"\\n\")\n",
    "\ttmp.return.data=c(as.character(case), rep(NA, 2))\n",
    "\tnames(tmp.return.data)=c(\"studiepersonid\",\"x_PRESCREEN\",   \"F85VTYP\")\n",
    "\t# extract sample\n",
    "\ttmp.data=qmammo[which(qmammo$SUBJID==case),]\n",
    "\ttmp.x_diagdate=phenotypes[case, \"x_diagdate\"]\n",
    "\t\n",
    "\t#in case there is no mammogram data for this case, return NA for x_PRESCREEN and F85VTYP\n",
    "\tif(nrow(tmp.data)==0 | sum(tmp.data$MAMMOGRM, na.rm=TRUE)==0) \n",
    "\t{\n",
    "\t\treturn(tmp.return.data)\n",
    "\t}\n",
    "\t# order tmp.data according to F33DAYS just in case\n",
    "\ttmp.data=tmp.data[order(tmp.data$F33DAYS),]\n",
    "\t\n",
    "\t\n",
    "\t# recode tmp.data to contain screening date\n",
    "\tpost.screen=tmp.data[which(tmp.data$MAMMOGRM==1),\"F33DAYS\"]\n",
    "\tpre.screen=tmp.data[which(tmp.data$MAMMOGRM==1)-1, \"F33DAYS\"]\n",
    "\t\n",
    "\t# in case the first reported mammography date does not have a preceding screening visit, set substract 365 from the first date\n",
    "\tif((which(tmp.data$MAMMOGRM==1)-1)[1]==0){pre.screen=c(post.screen[1]-365, tmp.data[which(tmp.data$MAMMOGRM==1)-1, \"F33DAYS\"])}\n",
    "\t\n",
    "\t# calculate the estimated screen date (average between reported mammogram and previous visit)\n",
    "\tscreen.dates=pre.screen+(post.screen-pre.screen)/2\n",
    "\t\n",
    "\t# add a buffer to the screening dates of 1 visit (365 days) to capture all potentially preceeding mammograms\n",
    "\tscreen.dates=screen.dates[screen.dates<=(tmp.x_diagdate+365)]\n",
    "\t\n",
    "\t# in case there are not screens reported before diagnosis, return NA\n",
    "\tif(length(screen.dates)==0)\n",
    "\t{\t\n",
    "\t\treturn(tmp.return.data)\n",
    "\t}\n",
    "\t\n",
    "\t#### extract x_PRESCREEN\n",
    "\ttmp.return.data[\"x_PRESCREEN\"]=screen.dates[length(screen.dates)]\n",
    "\t\n",
    "\n",
    "\treturn(tmp.return.data)\n",
    "}\n",
    "\n",
    "\n",
    "phenotypes[tmp.phenotypes[,\"studiepersonid\"],\"x_PRESCREEN\"]=as.numeric(tmp.phenotypes[,\"x_PRESCREEN\"])\n",
    "\n",
    "# convert to numeric\n",
    "phenotypes$x_PRESCREEN=as.numeric(phenotypes$x_PRESCREEN)\n",
    "\n",
    "#### interval between prior screening and BC diagnosis\n",
    "# x_interval   -   time in days between prior screen and BC diagnosis\n",
    "phenotypes$x_interval=phenotypes$x_diagdate-phenotypes$x_PRESCREEN"
   ]
  },
  {
   "cell_type": "code",
   "execution_count": 38,
   "metadata": {},
   "outputs": [
    {
     "data": {
      "text/plain": [
       "\n",
       "   0    1 \n",
       "9519 1153 "
      ]
     },
     "metadata": {},
     "output_type": "display_data"
    }
   ],
   "source": [
    "# compute x_age_dia from f2_rel1 (AGE and recruitment) and x_diagdate\n",
    "\n",
    "#### age at diagnosis\n",
    "# x_age_dia   -   Age in years at x_DIAGDAT\n",
    "phenotypes$x_age_dia=phenotypes$x_diagdate/365+f2_rel1_baseline[match(phenotypes$studiepersonid, f2_rel1_baseline$SUBJID), \"AGE\"]\n",
    "\n",
    "#### age at baseline\n",
    "# x_age_dia   -   Age in years at recruitment\n",
    "phenotypes$x_agebase=f2_rel1_baseline[match(phenotypes$studiepersonid, f2_rel1_baseline$SUBJID), \"AGE\"]\n",
    "\n",
    "# x_detmode: detection mode  with 3 months margin\n",
    "#\t\t\t\t1\tScreening-detected cancers (within 3 months of previous screen)\n",
    "#\t\t\t\t2\tInterval cancers 3 months < IC < 2 years after previous screen\n",
    "#\t\t\t\t3\tClinical cancers for women who had previous mammographies but date mammo > 2 years before diagnosis\n",
    "#\t\t\t\t4   Clinical cancers for women lacking previous mammographies\n",
    "\n",
    "phenotypes$x_detmode=NA\n",
    "phenotypes[which(phenotypes$x_interval<90),  \"x_detmode\"]=1\n",
    "phenotypes[which((phenotypes$x_interval>90)&(phenotypes$x_interval)<730),  \"x_detmode\"]=2\n",
    "phenotypes[which(phenotypes$x_interval>730),  \"x_detmode\"]=3\n",
    "phenotypes[which(is.na(phenotypes$x_interval)&!is.na(phenotypes$x_diagdate)),  \"x_detmode\"]=4\n",
    "\n",
    "# x_intcaFG3m: interval cancer yes/no\n",
    "phenotypes$x_intca=as.numeric(gsub(\"4\", NA, gsub(\"3\", NA, phenotypes$x_detmode)))-1\n",
    "table(phenotypes$x_intca)\n"
   ]
  },
  {
   "cell_type": "markdown",
   "metadata": {},
   "source": [
    "## ------------ Death ------------- ##"
   ]
  },
  {
   "cell_type": "code",
   "execution_count": 39,
   "metadata": {},
   "outputs": [],
   "source": [
    "# add the following phenotypes\n",
    "# dodsdatn \t-\t time till death from outc_death_all_discovered_rel1\n",
    "# ulorsak\t-\t main cause of death Main cause of death. ICD classification of the main cause underlying the death from outc_death_all_discovered_rel1\n",
    "# ENDFOLLOWALLDY - end of followup time (either death or study followup)\n",
    "phenotypes$dodsdatn=outc_death[match(phenotypes$studiepersonid, as.character(outc_death$SUBJID)), \"DEATHALLDY\"]\n",
    "phenotypes$ulorsak=outc_death[match(phenotypes$studiepersonid, as.character(outc_death$SUBJID)), \"DEATHALLCAUSE\"]\n",
    "phenotypes$ENDFOLLOWALLDY=outc_death[match(phenotypes$studiepersonid, as.character(outc_death$SUBJID)), \"ENDFOLLOWALLDY\"]\n",
    "\n",
    "\n",
    "\n",
    "#### Survival\n",
    "# x_survival_BC \t-\ttime to breast cancer specific cause death after BC diagnosis\n",
    "# also compute censor variables, i.e. time to end of study or death\n",
    "# x_censor_BC \t-\t any BC death occured (1) or not (0)\n",
    "\n",
    "# BC specific SURVIVAL/DEATH\n",
    "phenotypes$x_survival_BC=abs(phenotypes$x_diagdate-phenotypes$ENDFOLLOWALLDY)\n",
    "phenotypes$x_censor_BC=0\n",
    "phenotypes[(!is.na(phenotypes$dodsdatn))&(phenotypes$ulorsak==1), \"x_censor_BC\"]=1"
   ]
  },
  {
   "cell_type": "code",
   "execution_count": null,
   "metadata": {},
   "outputs": [],
   "source": []
  },
  {
   "cell_type": "markdown",
   "metadata": {},
   "source": [
    "## ------------ Breast Cancer Severity/Aggressivity ------------- ##"
   ]
  },
  {
   "cell_type": "code",
   "execution_count": 40,
   "metadata": {},
   "outputs": [
    {
     "data": {
      "text/plain": [
       "\n",
       "   0    1    2    3    4    5    6    7    8    9 \n",
       "9155  301  490  289   60  277  600    2   38  244 "
      ]
     },
     "metadata": {},
     "output_type": "display_data"
    }
   ],
   "source": [
    "####  x_Nlymph\t\t\t\n",
    "# x_Nlymph\t-\tlymphnode involvement; Source: Variable INVOLVE from outc_bc_rel4\n",
    "#\t\t\t0\tN0: No lymph node metastasis; bc_all$INVOLVE==0 and Micrometastasis (<0.2 cm) bc_all$INVOLVE==1\n",
    "#\t\t\t1\tN1a/b: \t\tlymph node involved, ipsilateral, not fixed\n",
    "#\t\t\t2\tN2: \t\tFixed/matted ipsilateral axillary nodes; bc_all$INVOLVE==5 OR intra mammary without axilla metastases bc_all$INVOLVE==7\n",
    "#\t\t\t3\tN3: Palpable lymph node metastasis, ipsilateral supraclavicular/infraclavicular fossa; bc_all$INVOLVE==8\n",
    "\n",
    "table(bc_all$INVOLVE)\n",
    "phenotypes$x_Nlymph=NA\n",
    "\n",
    "# determine N grade\n",
    "N0_indiv=as.character(bc_all[which(bc_all$INVOLVE<2), \"SUBJID\"])\n",
    "N1_indiv=as.character(bc_all[which((bc_all$INVOLVE>1)&(bc_all$INVOLVE<5)|(bc_all$INVOLVE==6)), \"SUBJID\"])\n",
    "N2_indiv=as.character(bc_all[which((bc_all$INVOLVE==5)|( bc_all$INVOLVE==7)), \"SUBJID\"])\n",
    "N3_indiv=as.character(bc_all[which((bc_all$INVOLVE==8)), \"SUBJID\"])\n",
    "\n",
    "\n",
    "# add to phenotypes\n",
    "phenotypes[!is.na(match(phenotypes$studiepersonid, N0_indiv)),\"x_Nlymph\"]=0\n",
    "phenotypes[!is.na(match(phenotypes$studiepersonid, N1_indiv)),\"x_Nlymph\"]=1\n",
    "phenotypes[!is.na(match(phenotypes$studiepersonid, N2_indiv)),\"x_Nlymph\"]=2\n",
    "phenotypes[!is.na(match(phenotypes$studiepersonid, N3_indiv)),\"x_Nlymph\"]=3"
   ]
  },
  {
   "cell_type": "code",
   "execution_count": 41,
   "metadata": {},
   "outputs": [
    {
     "data": {
      "text/plain": [
       "\n",
       "   0    5   10   20   30   40   50   60   70   80   85   99 \n",
       "2128   41 8752  174   33   23   29    3   41    1  129  102 "
      ]
     },
     "metadata": {},
     "output_type": "display_data"
    }
   ],
   "source": [
    "#### x_Meta \n",
    "# x_Meta\t-\tMetastasis status of tumor; Source: outc_bc_rel4 - bc_all$EXTENSION\n",
    "#\t\t\tM0\t No distant metastasis bc_all$EXTENSION!=85\n",
    "#\t\t\tM1\tDistant metastasis present bc_all$EXTENSION==85\n",
    "table(bc_all$EXTENSION)\n",
    "\n",
    "#create tmp variables for RCC and INCA\n",
    "phenotypes$x_Meta=NA\n",
    "\n",
    "# determine M grade\n",
    "M0_indiv=as.character(bc_all[which(bc_all$EXTENSION!=85), \"SUBJID\"])\n",
    "M1_indiv=as.character(bc_all[which(bc_all$EXTENSION==85), \"SUBJID\"])\n",
    "\n",
    "\n",
    "# add to phenotypes\n",
    "phenotypes[!is.na(match(phenotypes$studiepersonid, M0_indiv)),\"x_Meta\"]=0\n",
    "phenotypes[!is.na(match(phenotypes$studiepersonid, M1_indiv)),\"x_Meta\"]=1"
   ]
  },
  {
   "cell_type": "code",
   "execution_count": 42,
   "metadata": {},
   "outputs": [
    {
     "data": {
      "text/plain": [
       "\n",
       "   1    2    3    8    9 \n",
       "7010 2686   51  166 1540 "
      ]
     },
     "metadata": {},
     "output_type": "display_data"
    }
   ],
   "source": [
    "#### x_PR\n",
    "# x_PR\t-\tProgesteron Receptor Status; outc_bc_rel4 - bc_all$PRASSAY\n",
    "#\t\t\t0\tPR negative ; PRASSAY==2\n",
    "#\t\t\t1\tPR positive ; PRASSAY==1\n",
    "\n",
    "table(bc_all$PRASSAY)\n",
    "#create tmp variables for RCC and INCA\n",
    "phenotypes$x_PR=NA\n",
    "\n",
    "# determine PR status\n",
    "PR0_indiv=as.character(bc_all[(bc_all$PRASSAY==2), \"SUBJID\"])\n",
    "PR1_indiv=as.character(bc_all[(bc_all$PRASSAY==1), \"SUBJID\"])\n",
    "\n",
    "# add to phenotypes\n",
    "phenotypes[!is.na(match(phenotypes$studiepersonid, PR0_indiv)),\"x_PR\"]=0\n",
    "phenotypes[!is.na(match(phenotypes$studiepersonid, PR1_indiv)),\"x_PR\"]=1"
   ]
  },
  {
   "cell_type": "code",
   "execution_count": 43,
   "metadata": {},
   "outputs": [
    {
     "data": {
      "text/plain": [
       "\n",
       "   1    2    3    8    9 \n",
       "8380 1509   15  159 1390 "
      ]
     },
     "metadata": {},
     "output_type": "display_data"
    }
   ],
   "source": [
    "#### x_ER\n",
    "# x_ER\t-\tEstrogen Receptor Status; outc_bc_rel4 - bc_all$ERASSAY\n",
    "#\t\t\t0\tER negative ; ERASSAY==2\n",
    "#\t\t\t1\tER positive ; ERASSAY==1\n",
    "\n",
    "\n",
    "table(bc_all$ERASSAY)\n",
    "#create tmp variables for RCC and INCA\n",
    "phenotypes$x_ER=NA\n",
    "\n",
    "# determine PR status\n",
    "ER0_indiv=as.character(bc_all[(bc_all$ERASSAY==2), \"SUBJID\"])\n",
    "ER1_indiv=as.character(bc_all[(bc_all$ERASSAY==1), \"SUBJID\"])\n",
    "\n",
    "# add to phenotypes\n",
    "phenotypes[!is.na(match(phenotypes$studiepersonid, ER0_indiv)),\"x_ER\"]=0\n",
    "phenotypes[!is.na(match(phenotypes$studiepersonid, ER1_indiv)),\"x_ER\"]=1"
   ]
  },
  {
   "cell_type": "code",
   "execution_count": 44,
   "metadata": {},
   "outputs": [
    {
     "data": {
      "text/plain": [
       "\n",
       "   1    2    3    8    9 \n",
       "1044 6237   80  100 2062 "
      ]
     },
     "metadata": {},
     "output_type": "display_data"
    }
   ],
   "source": [
    "#### x_HER2\n",
    "# x_HER2\t-\thuman epidermal growth factor receptor 2 Receptor Status; outc_bc_rel4 - bc_all$HER2NEU\n",
    "#\t\t\t0\tHER2 negative ; HER2NEU==2\n",
    "#\t\t\t1\tHER2 positive/amplified ; HER2NEU==1\n",
    "table(bc_all$HER2NEU)\n",
    "\n",
    "\n",
    "#create tmp variables for RCC and INCA\n",
    "phenotypes$x_HER2=NA\n",
    "\n",
    "# determine Her2 status\n",
    "HER20_indiv=as.character(bc_all[(bc_all$HER2NEU==2), \"SUBJID\"])\n",
    "HER21_indiv=as.character(bc_all[(bc_all$HER2NEU==1), \"SUBJID\"])\n",
    "\n",
    "# add to phenotypes\n",
    "phenotypes[!is.na(match(phenotypes$studiepersonid, HER20_indiv)),\"x_HER2\"]=0\n",
    "phenotypes[!is.na(match(phenotypes$studiepersonid, HER21_indiv)),\"x_HER2\"]=1"
   ]
  },
  {
   "cell_type": "code",
   "execution_count": 45,
   "metadata": {},
   "outputs": [],
   "source": [
    "#### x_TN\t\t\t\t\t\t\t\n",
    "# x_TN\t-\tDerived from x_ER, x_PR and x_HER2\n",
    "#\t\t\t0\tNot triple-negative\t\n",
    "#\t\t\t1\tTriple negative (ER, PR and HER2 negative)\t\t\t\t\t\n",
    "phenotypes$x_TN=NA\n",
    "phenotypes[which(!is.na(apply(phenotypes[,c(\"x_ER\", \"x_HER2\", \"x_PR\")], 1,sum))), \"x_TN\"]=0\n",
    "phenotypes[which(apply(phenotypes[,c(\"x_ER\", \"x_HER2\", \"x_PR\")], 1,sum)==0), \"x_TN\"]=1"
   ]
  },
  {
   "cell_type": "code",
   "execution_count": 46,
   "metadata": {},
   "outputs": [
    {
     "data": {
      "text/plain": [
       "\n",
       "   1    2    3    4    9 \n",
       "2574 4545 2672  599 1066 "
      ]
     },
     "metadata": {},
     "output_type": "display_data"
    },
    {
     "data": {
      "text/plain": [
       "\n",
       "   1    2    3 \n",
       "2566 4497 3205 "
      ]
     },
     "metadata": {},
     "output_type": "display_data"
    }
   ],
   "source": [
    "#### x_Grade\n",
    "# x_Grade\t-\tNottingham Histologic Grade for invasive cancer and Nuclear grade for cancer in situ; not determined in WHI\n",
    "#\t\t\t1\tGrade 1\t\t(RCC: 1; INCA: 1)\t\t\n",
    "#\t\t\t2\tGrade 2\t\t(RCC: 2; INCA: 2)\t\t\t\t\n",
    "#\t\t\t3\tGrade 3\t\t(RCC: 3; INCA: 3)\t\t\t\t\n",
    "table(bc_all$GRADING)\n",
    "phenotypes$x_Grade=bc_all[match(phenotypes$studiepersonid, bc_all$SUBJID), \"GRADING\"]\n",
    "phenotypes[which(phenotypes$x_Grade==4), \"x_Grade\"]=3\n",
    "phenotypes[which(phenotypes$x_Grade==9), \"x_Grade\"]=NA\n",
    "\n",
    "table(phenotypes$x_Grade)"
   ]
  },
  {
   "cell_type": "code",
   "execution_count": 47,
   "metadata": {},
   "outputs": [
    {
     "data": {
      "text/plain": [
       "\n",
       "  0   1   2   3   4   5   6   7   8   9  10  11  12  13  14  15  16  17  18  19 \n",
       " 44 367  68 477 306 466 438 479 584 499 794 380 579 336 315 784 267 264 308 144 \n",
       " 20  21  22  23  24  25  26  27  28  29  30  31  32  33  34  35  36  37  38  39 \n",
       "516 148 178  94  98 341  52  82  66  27 262  21  45  18  14 135  19   9  22  16 \n",
       " 40  41  42  43  44  45  46  47  48  49  50  51  52  53  54  55  56  57  58  59 \n",
       "103   7  15  11   5  47   3   7   9   3  75  13   9   7   4  27   2   1   5   1 \n",
       " 60  61  62  63  64  65  67  69  70  71  72  73  74  75  76  79  80  82  84  85 \n",
       " 56   1   9   1   1  22   2   1  30   3   1   1   1   5   1   1  24   1   1   4 \n",
       " 87  90  91  93  95  96 100 101 102 105 110 111 115 120 121 150 997 998 999 \n",
       "  1  13   1   1   7   1  12   5   1   2   1   1   1   3   1   1   3  32 787 "
      ]
     },
     "metadata": {},
     "output_type": "display_data"
    }
   ],
   "source": [
    "#### x_tumsize\n",
    "# x_tumsize\t-\ttumor size in mm from pathology reports; outc_bc_rel4 - bc_all$SIZE\n",
    "table(bc_all$SIZE)\n",
    "\n",
    "\n",
    "phenotypes$x_tumsize=NA\n",
    "# determine tumor size and add to phenotypes\n",
    "phenotypes[,\"x_tumsize\"]=bc_all[match(phenotypes[,\"studiepersonid\"], bc_all$SUBJID), \"SIZE\"]\n",
    "\n",
    "#exclude size values of  2, since this means that the tumor was not measured\n",
    "phenotypes[which(phenotypes[,\"x_tumsize\"]==2), \"x_tumsize\"]=NA\n",
    "\n",
    "#exclude values below 3, since they do not represent tumor size or only very small tumors (microscopic)\n",
    "phenotypes[which(phenotypes[,\"x_tumsize\"]<3), \"x_tumsize\"]=0\n",
    "# exclude values above 200, since they are missing\n",
    "phenotypes[which(phenotypes[,\"x_tumsize\"]>200), \"x_tumsize\"]=NA"
   ]
  },
  {
   "cell_type": "code",
   "execution_count": 48,
   "metadata": {},
   "outputs": [
    {
     "data": {
      "text/plain": [
       "\n",
       "   0    1    2    3    4    5    6    7    8    9   10   11   12   13   14   15 \n",
       "2663 1518 1417  797  536  375  313  271  264  260  270  270  247  246  235  248 \n",
       "  16   17   18   19   20   21   22   23   24   25   26   27   28   29   30   31 \n",
       " 195  195  183  140  112   96   79   73   52   52   29   37   24   22   17   10 \n",
       "  32   33   34   35   36   37   38   39   40   41   42   44   45   46   47   50 \n",
       "   9   11    8    8    7    2    7    3    2    1    2    1    2    3    1    1 \n",
       "  51   57   61   97   98   99 \n",
       "   1    1    1    1   83   55 "
      ]
     },
     "metadata": {},
     "output_type": "display_data"
    }
   ],
   "source": [
    "#### x_lymphnodes\n",
    "# x_lymphnodes\t-\tnumber of metastatic lymphnodes; Source: NUMLYMPH\n",
    "table(bc_all$NUMLYMPH)\n",
    "\n",
    "phenotypes$x_lymphnodes=NA\n",
    "# determine tumor size and add to phenotypes\n",
    "phenotypes[,\"x_lymphnodes\"]=bc_all[match(phenotypes[,\"studiepersonid\"], bc_all$SUBJID), \"NUMLYMPH\"]\n",
    "\n",
    "#set special numnbers to NA\n",
    "phenotypes[which(phenotypes[,\"x_lymphnodes\"]>62), \"x_lymphnodes\"]=NA"
   ]
  },
  {
   "cell_type": "code",
   "execution_count": 49,
   "metadata": {},
   "outputs": [
    {
     "data": {
      "text/plain": [
       "\n",
       "   1    2 \n",
       "9291 2166 "
      ]
     },
     "metadata": {},
     "output_type": "display_data"
    }
   ],
   "source": [
    "#### x_invlocal\n",
    "# x_invlocal\t-\tBreast cancer invasiveness - Soruce: outc_bc_rel4 - bc_all$BEHAVIOR\n",
    "#\t\t\t0\tnon-infiltrative\t(in situ)\t\t\t\t\n",
    "#\t\t\t1\tInvasive or mixed invasive/non-infiltrative\t\t\t\t\t\n",
    "table(bc_all$BEHAVIOR)\n",
    "# 1=Invasive\n",
    "# 2=In Situ\n",
    "# 3=Borderline\n",
    "# 9=Unknown\n",
    "\n",
    "#create tmp variables\n",
    "phenotypes$x_invlocal=NA\n",
    "\n",
    "phenotypes[,\"x_invlocal\"]=abs(bc_all[match(phenotypes[,\"studiepersonid\"], bc_all$SUBJID), \"BEHAVIOR\"]-2)"
   ]
  },
  {
   "cell_type": "markdown",
   "metadata": {},
   "source": [
    "## ------------ Patient Phenotypes : Reproductive Health ------------- ##"
   ]
  },
  {
   "cell_type": "code",
   "execution_count": 50,
   "metadata": {},
   "outputs": [
    {
     "data": {
      "text/plain": [
       "\n",
       "    1     2     3     4     5     6     7 \n",
       "18180 54130 30417  8076  2194   395    25 "
      ]
     },
     "metadata": {},
     "output_type": "display_data"
    }
   ],
   "source": [
    "#### wom_firstchild_age f31_rel1$PREG6MAF\n",
    "# wom_firstchild_age\t-\tAge in years at first birth (numerical) WOM: f31_rel1$PREG6MAF (questionnaire)\n",
    "# \t\t\t1\tLess than 20\n",
    "#\t\t\t2\t20-24\n",
    "#\t\t\t3\t25-29\n",
    "#\t\t\t4\t30-34\n",
    "#\t\t\t5\t35-39\n",
    "#\t\t\t6\t40-44\n",
    "#\t\t\t7\t45 or older  \n",
    "table(f31_rel1$PREG6MAF)\n",
    "phenotypes$wom_firstchild_age=f31_rel1[match(phenotypes$studiepersonid, as.character(f31_rel1$SUBJID)),\"PREG6MAF\"]\n",
    "\n",
    "\t"
   ]
  },
  {
   "cell_type": "code",
   "execution_count": 51,
   "metadata": {},
   "outputs": [
    {
     "data": {
      "text/plain": [
       "\n",
       "    1     2     3     4     5     6     7     8     9 \n",
       " 1995  7505 22010 37066 41246 18953  7977  4483  1415 "
      ]
     },
     "metadata": {},
     "output_type": "display_data"
    }
   ],
   "source": [
    "#### menarche\tf31_rel1$MENARCHE +8\n",
    "# menarche\t-\tAge category at menarche (Derived from f31_rel1)\n",
    "\n",
    "table(f31_rel1$MENARCHE)\n",
    "\n",
    "# lowest age is 9 years, add 8 to code this variable as age in years\n",
    "phenotypes$menarche=f31_rel1[match(phenotypes$studiepersonid, as.character(f31_rel1$SUBJID)),\"MENARCHE\"]+8"
   ]
  },
  {
   "cell_type": "code",
   "execution_count": 52,
   "metadata": {},
   "outputs": [],
   "source": [
    "#### x_hrt \t\n",
    "# x_hrt\t-\tHormone replacement therapy at breast cancer diagnosis - Variable applies to systemic HRT use only  (questionnaire)\n",
    "#\t\t\t0\tPast or Never user\t\t\t\t\t\n",
    "#\t\t\t1\tCurrent user\n",
    "\n",
    "\n",
    "# identify cancers within trial period where the individual was on E or E+P\n",
    "phenotypes$BC_WITHIN_TRIAL=NA\n",
    "phenotypes$ADHRATE=NA\n",
    "\n",
    "for(case in phenotypes[!is.na(phenotypes$x_diagdate), \"studiepersonid\"])\n",
    "{\n",
    " \n",
    "    BC_date=phenotypes[match(case, phenotypes$studiepersonid), \"x_diagdate\"]\n",
    "    if(is.na(match(case, adherence$SUBJID))){next}\n",
    "   \n",
    "    \n",
    "    # identify the interval the BC occurred\n",
    "    tmp_adherence=adherence[which(case==adherence$SUBJID),]\n",
    "    tmp_adherence2=adherence[which(case==adherence$SUBJID),]\n",
    "    tmp_adherence=tmp_adherence[which(tmp_adherence$STARTDY<=BC_date&tmp_adherence$ENDDY>=BC_date),]\n",
    "    tmp_adherence2=tmp_adherence2[which(tmp_adherence2$ENDDY<=BC_date),]\n",
    "    \n",
    "    # in case the BC diagnosis occurred within the trial period, extract adherence rate\n",
    "    if(nrow(tmp_adherence)>0){\n",
    "    phenotypes[match(case, phenotypes$studiepersonid), \"WITHINGTRIAL\"]=1\n",
    "    phenotypes[match(case, phenotypes$studiepersonid), \"ADHRATE\"]=mean(as.numeric(tmp_adherence2[,\"ADHRATE\"]), na.rm=TRUE)\n",
    "        \n",
    "    }\n",
    "}\n",
    "\n",
    "phenotypes=cbind(phenotypes, HRTFLAG=randomization[match(phenotypes$studiepersonid, randomization$SUBJID), \"HRTFLAG\"],\n",
    "                 HRTARM=randomization[match(phenotypes$studiepersonid, randomization$SUBJID), \"HRTARM\"])\n",
    "phenotypes$x_hrt=NA\n",
    "phenotypes[which(phenotypes$HRTARM==2|phenotypes$HRTARM==4), \"x_hrt\"]=0\n",
    "phenotypes[which(phenotypes$HRTARM==1|phenotypes$HRTARM==3), \"x_hrt\"]=1\n"
   ]
  },
  {
   "cell_type": "markdown",
   "metadata": {},
   "source": [
    "## ------------ Patient Phenotypes : Family History ------------- ##"
   ]
  },
  {
   "cell_type": "code",
   "execution_count": 53,
   "metadata": {},
   "outputs": [
    {
     "data": {
      "text/plain": [
       "\n",
       "    0     1 \n",
       "40120 25224 "
      ]
     },
     "metadata": {},
     "output_type": "display_data"
    }
   ],
   "source": [
    "#### x_famhist_bre\n",
    "# x_famhist_bre\t-\tDerived from BRCAFREL in  f32_rel1 (questionnaire)\n",
    "#\t\t\t0\tNo biological mother or sister with breast cancer\t\t\t\t\t\n",
    "#\t\t\t1\tBiological mother or sister with breast cancer\t\t\t\t\t\n",
    "table(f32_rel1$BRCAFREL)\n",
    "\n",
    "phenotypes$x_famhist_bre=f32_rel1[match(phenotypes$studiepersonid, as.character(f32_rel1$SUBJID)),\"BRCAFREL\"]\n",
    "phenotypes[is.na(phenotypes$x_famhist_bre), \"x_famhist_bre\"]=0"
   ]
  },
  {
   "cell_type": "code",
   "execution_count": 54,
   "metadata": {},
   "outputs": [
    {
     "data": {
      "text/plain": [
       "\n",
       "    0     1 \n",
       "87949 48905 "
      ]
     },
     "metadata": {},
     "output_type": "display_data"
    },
    {
     "data": {
      "text/plain": [
       "\n",
       "    0     1 \n",
       "70166 67529 "
      ]
     },
     "metadata": {},
     "output_type": "display_data"
    },
    {
     "data": {
      "text/plain": [
       "\n",
       "    0     1 \n",
       "45568 88613 "
      ]
     },
     "metadata": {},
     "output_type": "display_data"
    }
   ],
   "source": [
    "#### x_famhist_canc\n",
    "# x_famhist_canc\t-\tDerived from CANCMREL in  f32_rel1 (questionnaire)\n",
    "#\t\t\t0\tNo close relative had cancer\t\t\t\t\t\n",
    "#\t\t\t1\tClose/immediate relative had cancer\t\t\t\t\t\n",
    "table(f32_rel1$CANCMREL)\n",
    "table(f32_rel1$CANCFREL)\n",
    "\n",
    "phenotypes$x_famhist_canc=f32_rel1[match(phenotypes$studiepersonid, as.character(f32_rel1$SUBJID)),\"CANCMREL\"]\n",
    "\n",
    "phenotypes[which(phenotypes$x_famhist_canc==0),\"x_famhist_canc\"]=f32_rel1[match(phenotypes[which(phenotypes$x_famhist_canc==0),\"studiepersonid\"], as.character(f32_rel1$SUBJID)),\"CANCFREL\"]\n",
    "table(phenotypes$x_famhist_canc)\n",
    "phenotypes$x_famhist_canc_noBRCA=phenotypes[,\"x_famhist_canc\"]\n",
    "phenotypes[which(phenotypes$x_famhist_bre==1),\"x_famhist_canc_noBRCA\"]=NA\n"
   ]
  },
  {
   "cell_type": "markdown",
   "metadata": {},
   "source": [
    "## ------------ Anthropomorphic and socioeconomic traits ---------- ##"
   ]
  },
  {
   "cell_type": "code",
   "execution_count": 55,
   "metadata": {},
   "outputs": [
    {
     "data": {
      "image/png": "[encoded data removed]",
      "text/plain": [
       "Plot with title “Histogram of f80_rel1$BMIX”"
      ]
     },
     "metadata": {},
     "output_type": "display_data"
    }
   ],
   "source": [
    "#### x_BMI f80_rel1$BMIX\n",
    "# x_BMI \tBMI of participant at recruitment derived from f80_rel1$BMIX (numeric)\n",
    "hist(f80_rel1$BMIX)\n",
    "phenotypes$x_BMI=f80_rel1[match(phenotypes$studiepersonid, as.character(f80_rel1$SUBJID)),\"BMIX\"]"
   ]
  },
  {
   "cell_type": "code",
   "execution_count": 56,
   "metadata": {},
   "outputs": [
    {
     "data": {
      "text/plain": [
       "\n",
       "    1     2     3     4     5     6     7     8     9    10    11 \n",
       "  109   511  1573  5087 23864 14291 39430 15762 16550 21397  3557 "
      ]
     },
     "metadata": {},
     "output_type": "display_data"
    }
   ],
   "source": [
    "#### education_level f20_rel1$EDUC\n",
    "# education_level Education level of participant (questionnaire)\n",
    "# \t\t\t1\t9-year school/Folkskola (f20_rel$EDUC  < 4)\n",
    "#\t\t\t2\tHigh School/Gymnasium (f20_rel$EDUC == 4:5)\n",
    "#\t\t\t3\tUniversity (f20_rel$EDUC > 6)\n",
    "table(f20_rel1$EDUC)\n",
    "\n",
    "f20_rel1$education_level=cut(f20_rel1$EDUC, c(0, 3, 6, 20), labels=1:3)\n",
    "phenotypes$education_level=f20_rel1[match(phenotypes$studiepersonid, as.character(f20_rel1$SUBJID)),\"education_level\"]"
   ]
  },
  {
   "cell_type": "code",
   "execution_count": 57,
   "metadata": {},
   "outputs": [
    {
     "data": {
      "text/plain": [
       "   \n",
       "        0     1\n",
       "  0     0     0\n",
       "  1 59714  9821"
      ]
     },
     "metadata": {},
     "output_type": "display_data"
    }
   ],
   "source": [
    "#### smoking_status f34_rel2$SMOKEVR and  f34_rel2$SMOKNOW\n",
    "# smoking_status\t-\tsmoking status retrieved from corevariables (questionnaire)\n",
    "#\t\t\t2\t is current user\n",
    "#\t\t\t1 \tis previous user\n",
    "#\t\t\t0 \tis never user\n",
    "table(f34_rel2$SMOKEVR, f34_rel2$SMOKNOW)\n",
    "\n",
    "\n",
    "smk_never=f34_rel2[which(f34_rel2$SMOKEVR==0),\"SUBJID\" ]\n",
    "smk_prev=f34_rel2[which(f34_rel2$SMOKEVR==1&f34_rel2$SMOKNOW==0),\"SUBJID\" ]\n",
    "smk_cur=f34_rel2[which(f34_rel2$SMOKEVR==1&f34_rel2$SMOKNOW==1),\"SUBJID\" ]\n",
    "\n",
    "phenotypes[!is.na(match(phenotypes$studiepersonid, smk_never)),\"smoking_status\"]=0\n",
    "phenotypes[!is.na(match(phenotypes$studiepersonid, smk_prev)),\"smoking_status\"]=1\n",
    "phenotypes[!is.na(match(phenotypes$studiepersonid, smk_cur)),\"smoking_status\"]=2"
   ]
  },
  {
   "cell_type": "markdown",
   "metadata": {},
   "source": [
    "## ------------ Other Breast Cancer risk factors ---------- ##"
   ]
  },
  {
   "cell_type": "code",
   "execution_count": 58,
   "metadata": {},
   "outputs": [
    {
     "name": "stdout",
     "output_type": "stream",
     "text": [
      "SINUS\n",
      "ADRENAL\n",
      "ANAL\n",
      "APPENDIX\n",
      "BASETONGUE\n",
      "BILIARY\n",
      "BLADDER\n",
      "BONELIMB\n",
      "BONENON\n",
      "BRAIN\n",
      "CNSCA\n",
      "CERVICAL\n",
      "COLON\n",
      "COLORECTAL\n",
      "CONNECTIVE\n",
      "ENDOCRINE\n",
      "ENDMTRL\n",
      "ESOPHAGUS\n",
      "EYE\n",
      "GALLBLDR\n",
      "GENITAL\n",
      "GUM\n",
      "HEART\n",
      "HYPOPHAR\n",
      "KIDNEY\n",
      "LARYNX\n",
      "LEUKEMIA\n",
      "LIVER\n",
      "LUNG\n",
      "LYMPH\n",
      "MENINGES\n",
      "MOUTHFLOOR\n",
      "NASAL\n",
      "NASOPHAR\n",
      "ORALUNSP\n",
      "OROPHARYNX\n",
      "OTHERDIGEST\n",
      "OTHERLIP\n",
      "OVARY\n",
      "PALATE\n",
      "PANCREAS\n",
      "PAROTID\n",
      "PERIPHERAL\n",
      "PERITONEUM\n",
      "PYRIFORM\n",
      "RECTOSIG\n",
      "RECTUM\n",
      "RENALPELV\n",
      "RESP\n",
      "SALIVARY\n",
      "SMINTEST\n",
      "STOMACH\n",
      "THYMUS\n",
      "THYROID\n",
      "TONGUE\n",
      "TONSIL\n",
      "TRACHEA\n",
      "URETER\n",
      "URINARY\n",
      "UTERINE\n",
      "VAGINA\n",
      "VULVA\n",
      "CANCOTHER\n",
      "MMYELOMA\n",
      "MELANOMA\n",
      "HODGKINS\n",
      "LYMPHOMA\n"
     ]
    }
   ],
   "source": [
    "# this file contains a list of cancers that are not breast cancer\n",
    "# computed from column names of outc_ct_os_rel4\n",
    "# can be copied to text file\n",
    "cancers=fread(\"CANCERS_outc_oc_ct_rel4.txt\", data.table=FALSE, header=FALSE)\n",
    "write.table(cancers, row.names=FALSE, quote=FALSE, col.names=FALSE)\n"
   ]
  },
  {
   "cell_type": "code",
   "execution_count": 59,
   "metadata": {},
   "outputs": [
    {
     "data": {
      "text/plain": [
       "\n",
       "     0      1      2      3 \n",
       "142472    254     84      5 "
      ]
     },
     "metadata": {},
     "output_type": "display_data"
    }
   ],
   "source": [
    "#### ANYCANCER_BEFORE - number of any type of cancer occured before BC diagnosis\n",
    "# all different kinds of cancers that were recorded in wHI are stored in cancers (see above)\n",
    "# compute the number of other cancers (excluding breast cancer) for each individual\n",
    "\n",
    "#  functions to identify prior and post diagnosis cancer occurence\n",
    "is_smaller_than_zero=function(number){\n",
    "    if(is.na(number)){return(NA)}\n",
    "    # do not count tumors within 1.5 years (540 days) before BC diagnosis\n",
    "    if(as.numeric(number)+540<=0){return(TRUE)}\n",
    "    if(as.numeric(number)+540>0 & as.numeric(number)<0){return(NA)}\n",
    "    if(as.numeric(number)>=0){return(FALSE)}\n",
    "}\n",
    "\n",
    "\n",
    "#  add date of diagnosis to outc_ct_os\n",
    "outc_ct_os$x_diagdate=phenotypes[match(as.character(outc_ct_os$SUBJID), phenotypes$studiepersonid), \"x_diagdate\"]\n",
    "\n",
    "# substract diagnosis date of cancers from diagnosis dates of other cancers\n",
    "tmp_outc=apply(outc_ct_os[, paste(cancers[,1], \"DY\", sep=\"\")]-outc_ct_os[, \"x_diagdate\"] , c(1,2), is_smaller_than_zero)\n",
    "\n",
    "# count the number of all tumors after BC diagnosis\n",
    "outc_ct_os$ANYCANCER_BEFORE=apply(tmp_outc, 1, sum, na.rm=TRUE)\n",
    "\n",
    "\n",
    "outc_ct_os$COLONC_BEFORE=tmp_outc[,\"COLONDY\"]\n",
    "outc_ct_os$COLORECTALC_BEFORE=tmp_outc[,\"COLORECTALDY\"]\n",
    "outc_ct_os$RECTALC_BEFORE=tmp_outc[,\"RECTUMDY\"]\n",
    "outc_ct_os$ENDOMETRIALC_BEFORE=tmp_outc[,\"ENDMTRLDY\"]\n",
    "outc_ct_os$LUNGC_BEFORE=tmp_outc[,\"LUNGDY\"]\n",
    "outc_ct_os$OVARYC_BEFORE=tmp_outc[,\"OVARYDY\"]\n",
    "outc_ct_os$MELANOMA_BEFORE=tmp_outc[,\"MELANOMADY\"]\n",
    "outc_ct_os$CERVIXC_BEFORE=tmp_outc[,\"CERVICALDY\"]\n",
    "outc_ct_os$THYROIDC_BEFORE=tmp_outc[,\"THYROIDDY\"]\n",
    "outc_ct_os$BLADDERC_BEFORE=tmp_outc[,\"BLADDERDY\"]\n",
    "outc_ct_os$PANCREASC_BEFORE=tmp_outc[,\"PANCREASDY\"]\n",
    "outc_ct_os$KIDNEYC_BEFORE=tmp_outc[,\"KIDNEYDY\"]\n",
    "outc_ct_os$BRAINC_BEFORE=tmp_outc[,\"BRAINDY\"]\n",
    "outc_ct_os$CNSC_BEFORE=tmp_outc[,\"CNSCADY\"]\n",
    "outc_ct_os$MENINGES_BEFORE=tmp_outc[,\"MENINGESDY\"]\n",
    "\n",
    "outc_ct_os$LYMPHOMA_BEFORE=tmp_outc[,\"LYMPHOMADY\"]\n",
    "outc_ct_os$HODGKINS_BEFORE=tmp_outc[,\"HODGKINSDY\"]\n",
    "outc_ct_os$MMYELOMA_BEFORE=tmp_outc[,\"MMYELOMADY\"]\n",
    "outc_ct_os$LEUKEMIA_BEFORE=tmp_outc[,\"LEUKEMIADY\"]\n",
    "\n",
    "#add to phenotypes\n",
    "phenotypes$ANYCANCER_BEFORE=outc_ct_os[match(phenotypes$studiepersonid, as.character(outc_ct_os$SUBJID)),\"ANYCANCER_BEFORE\"]\n",
    "\n",
    "\n",
    "phenotypes$COLORECTALC_BEFORE=0\n",
    "phenotypes[match(outc_ct_os[which(outc_ct_os$COLONC_BEFORE), \"SUBJID\"], phenotypes$studiepersonid),\"COLORECTALC_BEFORE\"]=1\n",
    "phenotypes[match(outc_ct_os[which(outc_ct_os$COLORECTALC_BEFORE), \"SUBJID\"], phenotypes$studiepersonid),\"COLORECTALC_BEFORE\"]=1\n",
    "phenotypes[match(outc_ct_os[which(outc_ct_os$RECTALC_BEFORE), \"SUBJID\"], phenotypes$studiepersonid),\"COLORECTALC_BEFORE\"]=1\n",
    "\n",
    "phenotypes$ENDOMETRIALC_BEFORE=0\n",
    "phenotypes[match(outc_ct_os[which(outc_ct_os$ENDOMETRIALC_BEFORE), \"SUBJID\"], phenotypes$studiepersonid),\"ENDOMETRIALC_BEFORE\"]=1\n",
    "\n",
    "phenotypes$LUNGC_BEFORE=0\n",
    "phenotypes[match(outc_ct_os[which(outc_ct_os$LUNGC_BEFORE), \"SUBJID\"], phenotypes$studiepersonid),\"LUNGC_BEFORE\"]=1\n",
    "\n",
    "phenotypes$OVARYC_BEFORE=0\n",
    "phenotypes[match(outc_ct_os[which(outc_ct_os$OVARYC_BEFORE), \"SUBJID\"], phenotypes$studiepersonid),\"OVARYC_BEFORE\"]=1\n",
    "\n",
    "# We do not have data on non-melanoma skin cancers in WHI, therefore all patients with melanoma are skin cancer patients\n",
    "phenotypes$MELANOMA_BEFORE=0\n",
    "phenotypes[match(outc_ct_os[which(outc_ct_os$MELANOMA_BEFORE), \"SUBJID\"], phenotypes$studiepersonid),\"MELANOMA_BEFORE\"]=1\n",
    "phenotypes$SKINC_BEFORE=phenotypes$MELANOMA_BEFORE\n",
    "phenotypes$NON_MELANOMA_BEFORE=NA\n",
    "\n",
    "phenotypes$CERVIXC_BEFORE=0\n",
    "phenotypes[match(outc_ct_os[which(outc_ct_os$CERVIXC_BEFORE), \"SUBJID\"], phenotypes$studiepersonid),\"CERVIXC_BEFORE\"]=1\n",
    "\n",
    "phenotypes$BLOODC_BEFORE=0\n",
    "phenotypes[match(outc_ct_os[which(outc_ct_os$LYMPHOMA_BEFORE), \"SUBJID\"], phenotypes$studiepersonid),\"BLOODC_BEFORE\"]=1\n",
    "phenotypes[match(outc_ct_os[which(outc_ct_os$HODGKINS_BEFORE), \"SUBJID\"], phenotypes$studiepersonid),\"BLOODC_BEFORE\"]=1\n",
    "phenotypes[match(outc_ct_os[which(outc_ct_os$MMYELOMA_BEFORE), \"SUBJID\"], phenotypes$studiepersonid),\"BLOODC_BEFORE\"]=1\n",
    "phenotypes[match(outc_ct_os[which(outc_ct_os$LEUKEMIA_BEFORE), \"SUBJID\"], phenotypes$studiepersonid),\"BLOODC_BEFORE\"]=1\n",
    "\n",
    "phenotypes$THYROIDC_BEFORE=0\n",
    "phenotypes[match(outc_ct_os[which(outc_ct_os$THYROIDC_BEFORE), \"SUBJID\"], phenotypes$studiepersonid),\"THYROIDC_BEFORE\"]=1\n",
    "\n",
    "phenotypes$CNSC_BEFORE=0\n",
    "phenotypes[match(outc_ct_os[which(outc_ct_os$BRAINC_BEFORE), \"SUBJID\"], phenotypes$studiepersonid),\"CNSC_BEFORE\"]=1\n",
    "phenotypes[match(outc_ct_os[which(outc_ct_os$CNSC_BEFORE), \"SUBJID\"], phenotypes$studiepersonid),\"CNSC_BEFORE\"]=1\n",
    "phenotypes[match(outc_ct_os[which(outc_ct_os$MENINGES_BEFORE), \"SUBJID\"], phenotypes$studiepersonid),\"CNSC_BEFORE\"]=1\n",
    "\n",
    "phenotypes$BLADDERC_BEFORE=0\n",
    "phenotypes[match(outc_ct_os[which(outc_ct_os$BLADDERC_BEFORE), \"SUBJID\"], phenotypes$studiepersonid),\"BLADDERC_BEFORE\"]=1\n",
    "\n",
    "phenotypes$PANCREASC_BEFORE=0\n",
    "phenotypes[match(outc_ct_os[which(outc_ct_os$PANCREASC_BEFORE), \"SUBJID\"], phenotypes$studiepersonid),\"PANCREASC_BEFORE\"]=1\n",
    "\n",
    "phenotypes$KIDNEYC_BEFORE=0\n",
    "phenotypes[match(outc_ct_os[which(outc_ct_os$KIDNEYC_BEFORE), \"SUBJID\"], phenotypes$studiepersonid),\"KIDNEYC_BEFORE\"]=1\n",
    "\n",
    "# exclude blood specific cancers (since thy are not solid tumors)\n",
    "phenotypes$ANYCANCER_BEFORE=phenotypes$ANYCANCER_BEFORE-phenotypes$BLOODC_BEFORE\n",
    "table(phenotypes$ANYCANCER_BEFORE)\n",
    "\n",
    "\n"
   ]
  },
  {
   "cell_type": "code",
   "execution_count": null,
   "metadata": {},
   "outputs": [],
   "source": []
  },
  {
   "cell_type": "code",
   "execution_count": 60,
   "metadata": {},
   "outputs": [
    {
     "data": {
      "text/html": [
       "<table>\n",
       "<thead><tr><th></th><th scope=col>SINUSDY</th><th scope=col>ADRENALDY</th><th scope=col>ANALDY</th><th scope=col>APPENDIXDY</th><th scope=col>BASETONGUEDY</th><th scope=col>BILIARYDY</th><th scope=col>BLADDERDY</th><th scope=col>BONELIMBDY</th><th scope=col>BONENONDY</th><th scope=col>BRAINDY</th><th scope=col>⋯</th><th scope=col>URETERDY</th><th scope=col>URINARYDY</th><th scope=col>UTERINEDY</th><th scope=col>VAGINADY</th><th scope=col>VULVADY</th><th scope=col>CANCOTHERDY</th><th scope=col>MMYELOMADY</th><th scope=col>MELANOMADY</th><th scope=col>HODGKINSDY</th><th scope=col>LYMPHOMADY</th></tr></thead>\n",
       "<tbody>\n",
       "\t<tr><th scope=row>143208</th><td>NA</td><td>NA</td><td>NA</td><td>NA</td><td>NA</td><td>NA</td><td>NA</td><td>NA</td><td>NA</td><td>NA</td><td>⋯ </td><td>NA</td><td>NA</td><td>NA</td><td>NA</td><td>NA</td><td>NA</td><td>NA</td><td>NA</td><td>NA</td><td>NA</td></tr>\n",
       "\t<tr><th scope=row>143209</th><td>NA</td><td>NA</td><td>NA</td><td>NA</td><td>NA</td><td>NA</td><td>NA</td><td>NA</td><td>NA</td><td>NA</td><td>⋯ </td><td>NA</td><td>NA</td><td>NA</td><td>NA</td><td>NA</td><td>NA</td><td>NA</td><td>NA</td><td>NA</td><td>NA</td></tr>\n",
       "\t<tr><th scope=row>143210</th><td>NA</td><td>NA</td><td>NA</td><td>NA</td><td>NA</td><td>NA</td><td>NA</td><td>NA</td><td>NA</td><td>NA</td><td>⋯ </td><td>NA</td><td>NA</td><td>NA</td><td>NA</td><td>NA</td><td>NA</td><td>NA</td><td>NA</td><td>NA</td><td>NA</td></tr>\n",
       "\t<tr><th scope=row>143211</th><td>NA</td><td>NA</td><td>NA</td><td>NA</td><td>NA</td><td>NA</td><td>NA</td><td>NA</td><td>NA</td><td>NA</td><td>⋯ </td><td>NA</td><td>NA</td><td>NA</td><td>NA</td><td>NA</td><td>NA</td><td>NA</td><td>NA</td><td>NA</td><td>NA</td></tr>\n",
       "\t<tr><th scope=row>143212</th><td>NA</td><td>NA</td><td>NA</td><td>NA</td><td>NA</td><td>NA</td><td>NA</td><td>NA</td><td>NA</td><td>NA</td><td>⋯ </td><td>NA</td><td>NA</td><td>NA</td><td>NA</td><td>NA</td><td>NA</td><td>NA</td><td>NA</td><td>NA</td><td>NA</td></tr>\n",
       "\t<tr><th scope=row>143213</th><td>NA</td><td>NA</td><td>NA</td><td>NA</td><td>NA</td><td>NA</td><td>NA</td><td>NA</td><td>NA</td><td>NA</td><td>⋯ </td><td>NA</td><td>NA</td><td>NA</td><td>NA</td><td>NA</td><td>NA</td><td>NA</td><td>NA</td><td>NA</td><td>NA</td></tr>\n",
       "</tbody>\n",
       "</table>\n"
      ],
      "text/latex": [
       "\\begin{tabular}{r|lllllllllllllllllllllllllllllllllllllllllllllllllllllllllllllllllll}\n",
       "  & SINUSDY & ADRENALDY & ANALDY & APPENDIXDY & BASETONGUEDY & BILIARYDY & BLADDERDY & BONELIMBDY & BONENONDY & BRAINDY & ⋯ & URETERDY & URINARYDY & UTERINEDY & VAGINADY & VULVADY & CANCOTHERDY & MMYELOMADY & MELANOMADY & HODGKINSDY & LYMPHOMADY\\\\\n",
       "\\hline\n",
       "\t143208 & NA & NA & NA & NA & NA & NA & NA & NA & NA & NA & ⋯  & NA & NA & NA & NA & NA & NA & NA & NA & NA & NA\\\\\n",
       "\t143209 & NA & NA & NA & NA & NA & NA & NA & NA & NA & NA & ⋯  & NA & NA & NA & NA & NA & NA & NA & NA & NA & NA\\\\\n",
       "\t143210 & NA & NA & NA & NA & NA & NA & NA & NA & NA & NA & ⋯  & NA & NA & NA & NA & NA & NA & NA & NA & NA & NA\\\\\n",
       "\t143211 & NA & NA & NA & NA & NA & NA & NA & NA & NA & NA & ⋯  & NA & NA & NA & NA & NA & NA & NA & NA & NA & NA\\\\\n",
       "\t143212 & NA & NA & NA & NA & NA & NA & NA & NA & NA & NA & ⋯  & NA & NA & NA & NA & NA & NA & NA & NA & NA & NA\\\\\n",
       "\t143213 & NA & NA & NA & NA & NA & NA & NA & NA & NA & NA & ⋯  & NA & NA & NA & NA & NA & NA & NA & NA & NA & NA\\\\\n",
       "\\end{tabular}\n"
      ],
      "text/markdown": [
       "\n",
       "| <!--/--> | SINUSDY | ADRENALDY | ANALDY | APPENDIXDY | BASETONGUEDY | BILIARYDY | BLADDERDY | BONELIMBDY | BONENONDY | BRAINDY | ⋯ | URETERDY | URINARYDY | UTERINEDY | VAGINADY | VULVADY | CANCOTHERDY | MMYELOMADY | MELANOMADY | HODGKINSDY | LYMPHOMADY | \n",
       "|---|---|---|---|---|---|\n",
       "| 143208 | NA | NA | NA | NA | NA | NA | NA | NA | NA | NA | ⋯  | NA | NA | NA | NA | NA | NA | NA | NA | NA | NA | \n",
       "| 143209 | NA | NA | NA | NA | NA | NA | NA | NA | NA | NA | ⋯  | NA | NA | NA | NA | NA | NA | NA | NA | NA | NA | \n",
       "| 143210 | NA | NA | NA | NA | NA | NA | NA | NA | NA | NA | ⋯  | NA | NA | NA | NA | NA | NA | NA | NA | NA | NA | \n",
       "| 143211 | NA | NA | NA | NA | NA | NA | NA | NA | NA | NA | ⋯  | NA | NA | NA | NA | NA | NA | NA | NA | NA | NA | \n",
       "| 143212 | NA | NA | NA | NA | NA | NA | NA | NA | NA | NA | ⋯  | NA | NA | NA | NA | NA | NA | NA | NA | NA | NA | \n",
       "| 143213 | NA | NA | NA | NA | NA | NA | NA | NA | NA | NA | ⋯  | NA | NA | NA | NA | NA | NA | NA | NA | NA | NA | \n",
       "\n",
       "\n"
      ],
      "text/plain": [
       "       SINUSDY ADRENALDY ANALDY APPENDIXDY BASETONGUEDY BILIARYDY BLADDERDY\n",
       "143208 NA      NA        NA     NA         NA           NA        NA       \n",
       "143209 NA      NA        NA     NA         NA           NA        NA       \n",
       "143210 NA      NA        NA     NA         NA           NA        NA       \n",
       "143211 NA      NA        NA     NA         NA           NA        NA       \n",
       "143212 NA      NA        NA     NA         NA           NA        NA       \n",
       "143213 NA      NA        NA     NA         NA           NA        NA       \n",
       "       BONELIMBDY BONENONDY BRAINDY ⋯ URETERDY URINARYDY UTERINEDY VAGINADY\n",
       "143208 NA         NA        NA      ⋯ NA       NA        NA        NA      \n",
       "143209 NA         NA        NA      ⋯ NA       NA        NA        NA      \n",
       "143210 NA         NA        NA      ⋯ NA       NA        NA        NA      \n",
       "143211 NA         NA        NA      ⋯ NA       NA        NA        NA      \n",
       "143212 NA         NA        NA      ⋯ NA       NA        NA        NA      \n",
       "143213 NA         NA        NA      ⋯ NA       NA        NA        NA      \n",
       "       VULVADY CANCOTHERDY MMYELOMADY MELANOMADY HODGKINSDY LYMPHOMADY\n",
       "143208 NA      NA          NA         NA         NA         NA        \n",
       "143209 NA      NA          NA         NA         NA         NA        \n",
       "143210 NA      NA          NA         NA         NA         NA        \n",
       "143211 NA      NA          NA         NA         NA         NA        \n",
       "143212 NA      NA          NA         NA         NA         NA        \n",
       "143213 NA      NA          NA         NA         NA         NA        "
      ]
     },
     "metadata": {},
     "output_type": "display_data"
    },
    {
     "data": {
      "text/plain": [
       "\n",
       "     0      1      2      3      4 \n",
       "141794    802    195     19      5 "
      ]
     },
     "metadata": {},
     "output_type": "display_data"
    }
   ],
   "source": [
    "#### ANYCANCER_AFTER - number of any type of cancer occured after BC diagnosis\n",
    "# all different kinds of cancers that were recorded in wHI are stored in cancers (see above)\n",
    "# compute the number of other cancers (excluding breast cancer) for each individual\n",
    "\n",
    "\n",
    "# function to identify post diagnosis cancer occurence\n",
    "is_greater_than_zero=function(number){\n",
    "    if(is.na(number)){return(NA)}\n",
    "    if(number>0){return(TRUE)}\n",
    "    if(number<=0){return(FALSE)}\n",
    "}\n",
    "\n",
    "# add diagnosis date to outc_ct_os\n",
    "outc_ct_os$x_diagdate=phenotypes[match(as.character(outc_ct_os$SUBJID), phenotypes$studiepersonid), \"x_diagdate\"]\n",
    "\n",
    "# substract diagnosis date of cancers from diagnosis dates of other cancers\n",
    "tmp_outc=apply(outc_ct_os[,paste(cancers[,1], \"DY\", sep=\"\")]-outc_ct_os[, \"x_diagdate\"] , c(1,2), is_greater_than_zero)\n",
    "\n",
    "# count the number of all tumors after BC diagnosis\n",
    "outc_ct_os$ANYCANCER_AFTER=apply(tmp_outc, 1, sum, na.rm=TRUE)\n",
    "\n",
    "\n",
    "# and add to outc_ct_os\n",
    "outc_ct_os$COLONC_AFTER=tmp_outc[,\"COLONDY\"]\n",
    "outc_ct_os$COLORECTALC_AFTER=tmp_outc[,\"COLORECTALDY\"]\n",
    "outc_ct_os$RECTALC_AFTER=tmp_outc[,\"RECTUMDY\"]\n",
    "outc_ct_os$ENDOMETRIALC_AFTER=tmp_outc[,\"ENDMTRLDY\"]\n",
    "outc_ct_os$LUNGC_AFTER=tmp_outc[,\"LUNGDY\"]\n",
    "outc_ct_os$OVARYC_AFTER=tmp_outc[,\"OVARYDY\"]\n",
    "outc_ct_os$MELANOMA_AFTER=tmp_outc[,\"MELANOMADY\"]\n",
    "outc_ct_os$CERVIXC_AFTER=tmp_outc[,\"CERVICALDY\"]\n",
    "outc_ct_os$THYROIDC_AFTER=tmp_outc[,\"THYROIDDY\"]\n",
    "outc_ct_os$BLADDERC_AFTER=tmp_outc[,\"BLADDERDY\"]\n",
    "outc_ct_os$PANCREASC_AFTER=tmp_outc[,\"PANCREASDY\"]\n",
    "outc_ct_os$KIDNEYC_AFTER=tmp_outc[,\"KIDNEYDY\"]\n",
    "outc_ct_os$BRAINC_AFTER=tmp_outc[,\"BRAINDY\"]\n",
    "outc_ct_os$CNSC_AFTER=tmp_outc[,\"CNSCADY\"]\n",
    "outc_ct_os$MENINGES_AFTER=tmp_outc[,\"MENINGESDY\"]\n",
    "\n",
    "outc_ct_os$LYMPHOMA_AFTER=tmp_outc[,\"LYMPHOMADY\"]\n",
    "outc_ct_os$HODGKINS_AFTER=tmp_outc[,\"HODGKINSDY\"]\n",
    "outc_ct_os$MMYELOMA_AFTER=tmp_outc[,\"MMYELOMADY\"]\n",
    "outc_ct_os$LEUKEMIA_AFTER=tmp_outc[,\"LEUKEMIADY\"]\n",
    "\n",
    "# add to phenotypes\n",
    "phenotypes$ANYCANCER_AFTER=outc_ct_os[match(phenotypes$studiepersonid, as.character(outc_ct_os$SUBJID)),\"ANYCANCER_AFTER\"]\n",
    "\n",
    "\n",
    "phenotypes$COLORECTALC_AFTER=0\n",
    "phenotypes[match(outc_ct_os[which(outc_ct_os$COLONC_AFTER), \"SUBJID\"], phenotypes$studiepersonid),\"COLORECTALC_AFTER\"]=1\n",
    "phenotypes[match(outc_ct_os[which(outc_ct_os$COLORECTALC_AFTER), \"SUBJID\"], phenotypes$studiepersonid),\"COLORECTALC_AFTER\"]=1\n",
    "phenotypes[match(outc_ct_os[which(outc_ct_os$RECTALC_AFTER), \"SUBJID\"], phenotypes$studiepersonid),\"COLORECTALC_AFTER\"]=1\n",
    "\n",
    "phenotypes$ENDOMETRIALC_AFTER=0\n",
    "phenotypes[match(outc_ct_os[which(outc_ct_os$ENDOMETRIALC_AFTER), \"SUBJID\"], phenotypes$studiepersonid),\"ENDOMETRIALC_AFTER\"]=1\n",
    "\n",
    "phenotypes$LUNGC_AFTER=0\n",
    "phenotypes[match(outc_ct_os[which(outc_ct_os$LUNGC_AFTER), \"SUBJID\"], phenotypes$studiepersonid),\"LUNGC_AFTER\"]=1\n",
    "\n",
    "phenotypes$OVARYC_AFTER=0\n",
    "phenotypes[match(outc_ct_os[which(outc_ct_os$OVARYC_AFTER), \"SUBJID\"], phenotypes$studiepersonid),\"OVARYC_AFTER\"]=1\n",
    "\n",
    "phenotypes$MELANOMA_AFTER=0\n",
    "phenotypes[match(outc_ct_os[which(outc_ct_os$MELANOMA_AFTER), \"SUBJID\"], phenotypes$studiepersonid),\"MELANOMA_AFTER\"]=1\n",
    "# We do not have non-melanoma skin cancers in WHI, therefore all patients with melanoma are skin cancer patients\n",
    "phenotypes$SKINC_AFTER=phenotypes$MELANOMA_AFTER\n",
    "phenotypes$NON_MELANOMA_AFTER=NA\n",
    "\n",
    "\n",
    "phenotypes$CERVIXC_AFTER=0\n",
    "phenotypes[match(outc_ct_os[which(outc_ct_os$CERVIXC_AFTER), \"SUBJID\"], phenotypes$studiepersonid),\"CERVIXC_AFTER\"]=1\n",
    "\n",
    "\n",
    "phenotypes$BLOODC_AFTER=0\n",
    "phenotypes[match(outc_ct_os[which(outc_ct_os$LYMPHOMA_AFTER), \"SUBJID\"], phenotypes$studiepersonid),\"BLOODC_AFTER\"]=1\n",
    "phenotypes[match(outc_ct_os[which(outc_ct_os$HODGKINS_AFTER), \"SUBJID\"], phenotypes$studiepersonid),\"BLOODC_AFTER\"]=1\n",
    "phenotypes[match(outc_ct_os[which(outc_ct_os$MMYELOMA_AFTER), \"SUBJID\"], phenotypes$studiepersonid),\"BLOODC_AFTER\"]=1\n",
    "phenotypes[match(outc_ct_os[which(outc_ct_os$LEUKEMIA_AFTER), \"SUBJID\"], phenotypes$studiepersonid),\"BLOODC_AFTER\"]=1\n",
    "\n",
    "\n",
    "\n",
    "phenotypes$THYROIDC_AFTER=0\n",
    "phenotypes[match(outc_ct_os[which(outc_ct_os$THYROIDC_AFTER), \"SUBJID\"], phenotypes$studiepersonid),\"THYROIDC_AFTER\"]=1\n",
    "\n",
    "phenotypes$CNSC_AFTER=0\n",
    "phenotypes[match(outc_ct_os[which(outc_ct_os$BRAINC_AFTER), \"SUBJID\"], phenotypes$studiepersonid),\"CNSC_AFTER\"]=1\n",
    "phenotypes[match(outc_ct_os[which(outc_ct_os$CNSC_AFTER), \"SUBJID\"], phenotypes$studiepersonid),\"CNSC_AFTER\"]=1\n",
    "phenotypes[match(outc_ct_os[which(outc_ct_os$MENINGES_AFTER), \"SUBJID\"], phenotypes$studiepersonid),\"CNSC_AFTER\"]=1\n",
    "\n",
    "phenotypes$BLADDERC_AFTER=0\n",
    "phenotypes[match(outc_ct_os[which(outc_ct_os$BLADDERC_AFTER), \"SUBJID\"], phenotypes$studiepersonid),\"BLADDERC_AFTER\"]=1\n",
    "\n",
    "phenotypes$PANCREASC_AFTER=0\n",
    "phenotypes[match(outc_ct_os[which(outc_ct_os$PANCREASC_AFTER), \"SUBJID\"], phenotypes$studiepersonid),\"PANCREASC_AFTER\"]=1\n",
    "\n",
    "phenotypes$KIDNEYC_AFTER=0\n",
    "phenotypes[match(outc_ct_os[which(outc_ct_os$KIDNEYC_AFTER), \"SUBJID\"], phenotypes$studiepersonid),\"KIDNEYC_AFTER\"]=1\n",
    "\n",
    "\n",
    "\n",
    "# exclude blood specific cancers (since thy are not solid tumors)\n",
    "phenotypes$ANYCANCER_AFTER=phenotypes$ANYCANCER_AFTER-phenotypes$BLOODC_AFTER\n",
    "table(phenotypes$ANYCANCER_AFTER)"
   ]
  },
  {
   "cell_type": "code",
   "execution_count": 61,
   "metadata": {},
   "outputs": [],
   "source": [
    "#### ANYCANCER - number of any type of cancer other than breast cancer occured AFTER or BEFORE BC diagnosis\n",
    "phenotypes$ANYCANCER=phenotypes$ANYCANCER_BEFORE+phenotypes$ANYCANCER_AFTER"
   ]
  },
  {
   "cell_type": "markdown",
   "metadata": {},
   "source": [
    "## -------- Ancestry ---- ##"
   ]
  },
  {
   "cell_type": "code",
   "execution_count": 62,
   "metadata": {},
   "outputs": [
    {
     "data": {
      "text/plain": [
       "\n",
       "     1      2      3      4      5      8 \n",
       "   614   3498  12151   5468 119539   1595 "
      ]
     },
     "metadata": {},
     "output_type": "display_data"
    },
    {
     "data": {
      "text/plain": [
       "\n",
       "     1      2      3      4      5      8 \n",
       "   613   3492  12114   5456 119200   1592 "
      ]
     },
     "metadata": {},
     "output_type": "display_data"
    },
    {
     "data": {
      "text/html": [
       "<ol class=list-inline>\n",
       "\t<li>142815</li>\n",
       "\t<li>72</li>\n",
       "</ol>\n"
      ],
      "text/latex": [
       "\\begin{enumerate*}\n",
       "\\item 142815\n",
       "\\item 72\n",
       "\\end{enumerate*}\n"
      ],
      "text/markdown": [
       "1. 142815\n",
       "2. 72\n",
       "\n",
       "\n"
      ],
      "text/plain": [
       "[1] 142815     72"
      ]
     },
     "metadata": {},
     "output_type": "display_data"
    }
   ],
   "source": [
    "#### RACE - Racial or ethnic group (questionnair)\n",
    "#\t\t\t1=American Indian or Alaskan Native\n",
    "#\t\t\t2=Asian or Pacific Islander\n",
    "#\t\t\t3=Black or African-American\n",
    "#\t\t\t4=Hispanic/Latino\n",
    "#\t\t\t5=White (not of Hispanic origin)\n",
    "#\t\t\t8=Other  \n",
    "\n",
    "table(f2_rel1_baseline$RACE)\n",
    "phenotypes$RACE=f2_rel1_baseline[match(phenotypes$studiepersonid, as.character(f2_rel1_baseline$SUBJID)),\"RACE\"]\n",
    "table(phenotypes$RACE)\n",
    "dim(phenotypes)\n"
   ]
  }
 ],
 "metadata": {
  "kernelspec": {
   "display_name": "R",
   "language": "R",
   "name": "ir"
  },
  "language_info": {
   "codemirror_mode": "r",
   "file_extension": ".r",
   "mimetype": "text/x-r-source",
   "name": "R",
   "pygments_lexer": "r",
   "version": "3.5.1"
  }
 },
 "nbformat": 4,
 "nbformat_minor": 2
}
